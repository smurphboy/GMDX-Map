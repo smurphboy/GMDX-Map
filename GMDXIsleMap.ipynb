{
 "cells": [
  {
   "cell_type": "markdown",
   "metadata": {},
   "source": [
    "# GMDX Islands of Scotland Award Map\n",
    "\n",
    "## Do all the imports"
   ]
  },
  {
   "cell_type": "code",
   "execution_count": 1,
   "metadata": {},
   "outputs": [],
   "source": [
    "import ipywidgets as widgets\n",
    "import json\n",
    "import maidenhead as mh\n",
    "import matplotlib\n",
    "import numpy as np\n",
    "import pandas as pd\n",
    "import re\n",
    "import requests\n",
    "from ipyleaflet import AwesomeIcon, DivIcon, Map, basemaps, basemap_to_tiles, LayersControl, LayerGroup, Marker, MarkerCluster, Polyline\n",
    "from IPython.display import HTML as HTML2\n",
    "from ipywidgets import interact, interact_manual\n",
    "from matplotlib import pyplot\n",
    "from pyhamtools import LookupLib, Callinfo\n",
    "from pyhamtools.locator import calculate_distance"
   ]
  },
  {
   "cell_type": "markdown",
   "metadata": {},
   "source": [
    "### Import islands.csv"
   ]
  },
  {
   "cell_type": "code",
   "execution_count": 2,
   "metadata": {},
   "outputs": [
    {
     "data": {
      "text/html": [
       "<div>\n",
       "<style scoped>\n",
       "    .dataframe tbody tr th:only-of-type {\n",
       "        vertical-align: middle;\n",
       "    }\n",
       "\n",
       "    .dataframe tbody tr th {\n",
       "        vertical-align: top;\n",
       "    }\n",
       "\n",
       "    .dataframe thead th {\n",
       "        text-align: right;\n",
       "    }\n",
       "</style>\n",
       "<table border=\"1\" class=\"dataframe\">\n",
       "  <thead>\n",
       "    <tr style=\"text-align: right;\">\n",
       "      <th></th>\n",
       "      <th>region</th>\n",
       "      <th>ref</th>\n",
       "      <th>name</th>\n",
       "      <th>yn</th>\n",
       "      <th>lat</th>\n",
       "      <th>lon</th>\n",
       "    </tr>\n",
       "    <tr>\n",
       "      <th>idx</th>\n",
       "      <th></th>\n",
       "      <th></th>\n",
       "      <th></th>\n",
       "      <th></th>\n",
       "      <th></th>\n",
       "      <th></th>\n",
       "    </tr>\n",
       "  </thead>\n",
       "  <tbody>\n",
       "    <tr>\n",
       "      <th>1</th>\n",
       "      <td>Clyde</td>\n",
       "      <td>CL01</td>\n",
       "      <td>Arran</td>\n",
       "      <td>False</td>\n",
       "      <td>55.58</td>\n",
       "      <td>-5.25</td>\n",
       "    </tr>\n",
       "    <tr>\n",
       "      <th>2</th>\n",
       "      <td>Clyde</td>\n",
       "      <td>CL02</td>\n",
       "      <td>Bute</td>\n",
       "      <td>False</td>\n",
       "      <td>55.83</td>\n",
       "      <td>-5.07</td>\n",
       "    </tr>\n",
       "    <tr>\n",
       "      <th>3</th>\n",
       "      <td>Clyde</td>\n",
       "      <td>CL03</td>\n",
       "      <td>Great Cumbrae</td>\n",
       "      <td>False</td>\n",
       "      <td>55.77</td>\n",
       "      <td>-4.92</td>\n",
       "    </tr>\n",
       "    <tr>\n",
       "      <th>4</th>\n",
       "      <td>Clyde</td>\n",
       "      <td>CL04</td>\n",
       "      <td>Little Cumbrae</td>\n",
       "      <td>True</td>\n",
       "      <td>55.72</td>\n",
       "      <td>-4.95</td>\n",
       "    </tr>\n",
       "    <tr>\n",
       "      <th>5</th>\n",
       "      <td>Clyde</td>\n",
       "      <td>CL05</td>\n",
       "      <td>Ailsa Craig</td>\n",
       "      <td>True</td>\n",
       "      <td>55.25</td>\n",
       "      <td>-5.12</td>\n",
       "    </tr>\n",
       "    <tr>\n",
       "      <th>...</th>\n",
       "      <td>...</td>\n",
       "      <td>...</td>\n",
       "      <td>...</td>\n",
       "      <td>...</td>\n",
       "      <td>...</td>\n",
       "      <td>...</td>\n",
       "    </tr>\n",
       "    <tr>\n",
       "      <th>211</th>\n",
       "      <td>Scottish Coastal Islands</td>\n",
       "      <td>SC17</td>\n",
       "      <td>Carna (Loch Sunart)</td>\n",
       "      <td>True</td>\n",
       "      <td>56.66</td>\n",
       "      <td>-5.89</td>\n",
       "    </tr>\n",
       "    <tr>\n",
       "      <th>212</th>\n",
       "      <td>Scottish Coastal Islands</td>\n",
       "      <td>SC18</td>\n",
       "      <td>Soyea Island (W of Lochinver)</td>\n",
       "      <td>True</td>\n",
       "      <td>58.14</td>\n",
       "      <td>-5.32</td>\n",
       "    </tr>\n",
       "    <tr>\n",
       "      <th>213</th>\n",
       "      <td>Scottish Coastal Islands</td>\n",
       "      <td>SC20</td>\n",
       "      <td>Isle Ristol (N of Summer Isles)</td>\n",
       "      <td>True</td>\n",
       "      <td>58.04</td>\n",
       "      <td>-5.44</td>\n",
       "    </tr>\n",
       "    <tr>\n",
       "      <th>214</th>\n",
       "      <td>Scottish Coastal Islands</td>\n",
       "      <td>SC21</td>\n",
       "      <td>Eilean Mullagrach (N of Summer Isles)</td>\n",
       "      <td>True</td>\n",
       "      <td>58.05</td>\n",
       "      <td>-5.46</td>\n",
       "    </tr>\n",
       "    <tr>\n",
       "      <th>215</th>\n",
       "      <td>Scottish Coastal Islands</td>\n",
       "      <td>SC22</td>\n",
       "      <td>Eilean Ghlais (N of Summer Isles)</td>\n",
       "      <td>True</td>\n",
       "      <td>58.03</td>\n",
       "      <td>-5.47</td>\n",
       "    </tr>\n",
       "  </tbody>\n",
       "</table>\n",
       "<p>215 rows × 6 columns</p>\n",
       "</div>"
      ],
      "text/plain": [
       "                       region   ref                                   name  \\\n",
       "idx                                                                          \n",
       "1                       Clyde  CL01                                  Arran   \n",
       "2                       Clyde  CL02                                   Bute   \n",
       "3                       Clyde  CL03                          Great Cumbrae   \n",
       "4                       Clyde  CL04                         Little Cumbrae   \n",
       "5                       Clyde  CL05                            Ailsa Craig   \n",
       "..                        ...   ...                                    ...   \n",
       "211  Scottish Coastal Islands  SC17                    Carna (Loch Sunart)   \n",
       "212  Scottish Coastal Islands  SC18          Soyea Island (W of Lochinver)   \n",
       "213  Scottish Coastal Islands  SC20        Isle Ristol (N of Summer Isles)   \n",
       "214  Scottish Coastal Islands  SC21  Eilean Mullagrach (N of Summer Isles)   \n",
       "215  Scottish Coastal Islands  SC22      Eilean Ghlais (N of Summer Isles)   \n",
       "\n",
       "        yn    lat   lon  \n",
       "idx                      \n",
       "1    False  55.58 -5.25  \n",
       "2    False  55.83 -5.07  \n",
       "3    False  55.77 -4.92  \n",
       "4     True  55.72 -4.95  \n",
       "5     True  55.25 -5.12  \n",
       "..     ...    ...   ...  \n",
       "211   True  56.66 -5.89  \n",
       "212   True  58.14 -5.32  \n",
       "213   True  58.04 -5.44  \n",
       "214   True  58.05 -5.46  \n",
       "215   True  58.03 -5.47  \n",
       "\n",
       "[215 rows x 6 columns]"
      ]
     },
     "execution_count": 2,
     "metadata": {},
     "output_type": "execute_result"
    }
   ],
   "source": [
    "col_names = ['idx', 'region', 'ref', 'name', 'yn', 'lat', 'lon']\n",
    "dfisland = pd.read_csv(r'islands.csv', sep='\\t', header=None, names=col_names, index_col='idx', true_values='y', false_values='n', engine='python')\n",
    "dfisland['lon'] = -(dfisland['lon'])\n",
    "dfisland"
   ]
  },
  {
   "cell_type": "markdown",
   "metadata": {},
   "source": [
    "## Map the Islands"
   ]
  },
  {
   "cell_type": "code",
   "execution_count": 3,
   "metadata": {},
   "outputs": [
    {
     "data": {
      "application/vnd.jupyter.widget-view+json": {
       "model_id": "3e044bdfbfb94d0d97ea9c6b700d3d24",
       "version_major": 2,
       "version_minor": 0
      },
      "text/plain": [
       "Map(center=[58, -3], controls=(ZoomControl(options=['position', 'zoom_in_text', 'zoom_in_title', 'zoom_out_tex…"
      ]
     },
     "metadata": {},
     "output_type": "display_data"
    }
   ],
   "source": [
    "from ipyleaflet import Popup\n",
    "from ipywidgets import HTML\n",
    "IOSAmap = Map(basemap=basemaps.Stamen.Terrain, center = [58, -3], zoom = 6, scroll_wheel_zoom=True)\n",
    "for i in range(0,len(dfisland)):\n",
    "    marker = Marker(location=[dfisland.iloc[i]['lat'], (dfisland.iloc[i]['lon'])], title=dfisland.iloc[i]['name'], draggable=False)\n",
    "    message = HTML(value=\"Name: %s (%s)</br>Region: %s\"%(dfisland.iloc[i]['name'], dfisland.iloc[i]['ref'], dfisland.iloc[i]['region']))\n",
    "    marker.popup = message\n",
    "    IOSAmap.add_layer(marker)\n",
    "IOSAmap.layout.height='700px'\n",
    "IOSAmap.save('maps/ISOA.html', title='GMDX Islands of Scotland Award Map')\n",
    "IOSAmap"
   ]
  },
  {
   "cell_type": "markdown",
   "metadata": {},
   "source": [
    "## LayerGroup Control example\n",
    "\n",
    "Make each region a layergroup"
   ]
  },
  {
   "cell_type": "code",
   "execution_count": 8,
   "metadata": {},
   "outputs": [
    {
     "data": {
      "application/vnd.jupyter.widget-view+json": {
       "model_id": "14548aed8f264636b679c9ddb78bff33",
       "version_major": 2,
       "version_minor": 0
      },
      "text/plain": [
       "Map(center=[58, -3], controls=(ZoomControl(options=['position', 'zoom_in_text', 'zoom_in_title', 'zoom_out_tex…"
      ]
     },
     "metadata": {},
     "output_type": "display_data"
    }
   ],
   "source": [
    "def isleinregion (region):\n",
    "    return dfisland.loc[(dfisland['region'].values==region)]\n",
    "\n",
    "regions = dfisland['region'].unique()\n",
    "lgs = list()\n",
    "IOSAmap2 = Map(basemap=basemaps.Stamen.Terrain, center = [58, -3], zoom = 6, scroll_wheel_zoom=True)\n",
    "for reg in regions:\n",
    "    marks = list()\n",
    "    for i, isle in dfisland.loc[(dfisland['region'].values==reg)].iterrows():\n",
    "        marker = Marker(location=(isle['lat'], isle['lon']), title=isle['name'], draggable=False)\n",
    "        message = HTML(value=\"Name: %s (%s)</br>Region: %s\"%(isle['name'], isle['ref'], isle['region']))\n",
    "        marker.popup = message\n",
    "        marks.append(marker)\n",
    "    lgs.append(LayerGroup(layers=marks, name=reg))\n",
    "for lg in lgs:\n",
    "    IOSAmap2.add_layer(lg)\n",
    "IOSAmap2.layout.height='700px'\n",
    "IOSAmap2.add_control(LayersControl())\n",
    "IOSAmap2.save('maps/ISOA2.html', title='GMDX Islands of Scotland Award Map')\n",
    "IOSAmap2"
   ]
  }
 ],
 "metadata": {
  "kernelspec": {
   "display_name": "Python 3.7.3 32-bit",
   "language": "python",
   "name": "python3"
  },
  "language_info": {
   "codemirror_mode": {
    "name": "ipython",
    "version": 3
   },
   "file_extension": ".py",
   "mimetype": "text/x-python",
   "name": "python",
   "nbconvert_exporter": "python",
   "pygments_lexer": "ipython3",
   "version": "3.7.3"
  },
  "orig_nbformat": 4,
  "vscode": {
   "interpreter": {
    "hash": "38fdd05de296753c6900debbac591be44e70925d283ea12725a778f77f4c6aed"
   }
  }
 },
 "nbformat": 4,
 "nbformat_minor": 2
}
